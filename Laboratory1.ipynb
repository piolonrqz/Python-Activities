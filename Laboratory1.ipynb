{
 "cells": [
  {
   "cell_type": "code",
   "execution_count": null,
   "metadata": {},
   "outputs": [],
   "source": [
    "while True:\n",
    "    dailyBudget = int(input(\"Enter your daily budget: \"))\n",
    "    totalExpense = 0\n",
    "\n",
    "    if dailyBudget == -1:\n",
    "        break\n",
    "\n",
    "    while True:\n",
    "        expense = input(\"Enter an expense (or -1 to finish): \")\n",
    "\n",
    "        if expense == \"-1\":\n",
    "            break\n",
    "\n",
    "        expense = int(expense)\n",
    "        totalExpense += expense\n",
    "    \n",
    "    print(\"\\nTotal amount spent:\", totalExpense)\n",
    "\n",
    "    if totalExpense <= dailyBudget:\n",
    "        print(\"You have stayed within your budget.\")\n",
    "    else:\n",
    "        print(\"You have exceeded your budget.\")\n"
   ]
  },
  {
   "cell_type": "code",
   "execution_count": null,
   "metadata": {},
   "outputs": [],
   "source": [
    "principalAmount = int(input(\"Enter principle amount: \"))\n",
    "interestRate = int(input(\"Enter rate of interest: \"))\n",
    "time = int(input(\"Enter time period in years: \"))\n",
    "\n",
    "simpleInterest = (principalAmount * interestRate * time) / 100\n",
    "print(f\"Simple Interest: {simpleInterest}\")"
   ]
  },
  {
   "cell_type": "code",
   "execution_count": null,
   "metadata": {},
   "outputs": [],
   "source": [
    "num = int(input(\"Enter a positive number: \"))\n",
    "\n",
    "total = 0\n",
    "for i in range(1, num+1):\n",
    "    total += i\n",
    "\n",
    "print(f\"Sum of natural numbers up to {num} : {total} \")"
   ]
  },
  {
   "cell_type": "code",
   "execution_count": null,
   "metadata": {},
   "outputs": [],
   "source": [
    "num = int(input(\"Enter a positive number: \"))\n",
    "\n",
    "if num > 0:\n",
    "    for i in range (2, num):\n",
    "        if num % i == 0:\n",
    "            print(f\"The number {num} is not prime number.\")\n",
    "    else:\n",
    "        print(f\"The number {num} is prime number.\")\n",
    "        "
   ]
  },
  {
   "cell_type": "code",
   "execution_count": null,
   "metadata": {},
   "outputs": [],
   "source": [
    "celsius = int(input(\"Enter temperature in Celsius: \"))\n",
    "\n",
    "fahrenheit = (celsius * 9 / 5) + 32\n",
    "\n",
    "print(f\"Temperature in Fahrenheit: {fahrenheit}\")"
   ]
  }
 ],
 "metadata": {
  "language_info": {
   "name": "python"
  }
 },
 "nbformat": 4,
 "nbformat_minor": 2
}
