{
 "cells": [
  {
   "cell_type": "code",
   "execution_count": 22,
   "metadata": {},
   "outputs": [
    {
     "name": "stdout",
     "output_type": "stream",
     "text": [
      "Factorial of 7: 5040\n"
     ]
    }
   ],
   "source": [
    "def factorial(num):\n",
    "    result = 1\n",
    "    for i in range(2, num + 1):\n",
    "        result *= i\n",
    "    return result\n",
    "\n",
    "num = int(input(\"Enter a positive number: \"))\n",
    "\n",
    "print(f\"Factorial of {num}:\", factorial(num))\n"
   ]
  },
  {
   "cell_type": "code",
   "execution_count": 3,
   "metadata": {},
   "outputs": [
    {
     "name": "stdout",
     "output_type": "stream",
     "text": [
      "Converted temperature: 170.6\n"
     ]
    }
   ],
   "source": [
    "def fahrenheit_to_celsius(fahrenheit):\n",
    "    return (fahrenheit - 32) * 5 / 9\n",
    "\n",
    "def celsius_to_fahrenheit(celsius):\n",
    "    return (celsius * 9 / 5) + 32\n",
    "\n",
    "def temperature_converter():\n",
    "    temperature = float(input(\"Enter temperature: \"))\n",
    "    choice = input(\"Select a conversion type( 1 - Fahrenheit to Celsius, 2 - Celsius to Fahrenheit): \")\n",
    "    \n",
    "\n",
    "    switch_dict = {\n",
    "        '1': fahrenheit_to_celsius,  \n",
    "        '2': celsius_to_fahrenheit    \n",
    "    }\n",
    "    \n",
    "    converted_temperature = switch_dict.get(choice, lambda x: \"Invalid choice\")(temperature)\n",
    "    \n",
    "    print(f\"Converted temperature: {converted_temperature}\")\n",
    "\n",
    "\n",
    "temperature_converter()\n"
   ]
  },
  {
   "cell_type": "code",
   "execution_count": 51,
   "metadata": {},
   "outputs": [
    {
     "name": "stdout",
     "output_type": "stream",
     "text": [
      "BMI: 24.61\n",
      "Category: Normal weight\n"
     ]
    }
   ],
   "source": [
    "def bmi_calculator():\n",
    "    weight = float(input(\"Enter the weight (in kilograms): \"))\n",
    "    height = float(input(\"Enter the height (in meters): \"))\n",
    "\n",
    "    bmi = weight / (height ** 2)  \n",
    "    print(f\"BMI: {bmi:.2f}\")\n",
    "    return bmi\n",
    "\n",
    "def bmi_indicator():\n",
    "    bmi = bmi_calculator()\n",
    "\n",
    "    if bmi > 30:\n",
    "        print(\"Category: Obesity\")\n",
    "    elif 24.9 < bmi <= 29.9:\n",
    "        print(\"Category: Overweight\")\n",
    "    elif 18.5 <= bmi <= 24.9:\n",
    "        print(\"Category: Normal weight\")\n",
    "    else:\n",
    "        print(\"Category: Underweight\")\n",
    "\n",
    "bmi_indicator()\n"
   ]
  },
  {
   "cell_type": "code",
   "execution_count": 14,
   "metadata": {},
   "outputs": [
    {
     "name": "stdout",
     "output_type": "stream",
     "text": [
      "Difference: 5\n"
     ]
    }
   ],
   "source": [
    "def difference():\n",
    "    number = int(input(\"Enter a number: \"))\n",
    "\n",
    "    if number > 17:\n",
    "        return number - 17\n",
    "    else:\n",
    "        return 17 - number\n",
    "\n",
    "print(f\"Difference: {difference()}\")\n"
   ]
  },
  {
   "cell_type": "code",
   "execution_count": 63,
   "metadata": {},
   "outputs": [
    {
     "name": "stdout",
     "output_type": "stream",
     "text": [
      "1 \n",
      "1 1 \n",
      "1 2 1 \n",
      "1 3 3 1 \n",
      "1 4 6 4 1 \n"
     ]
    }
   ],
   "source": [
    "def pascals_triangle(n):\n",
    "    triangle = [[1]]\n",
    "\n",
    "    for row in range(1, n):\n",
    "        new_row = [1]\n",
    "        for i in range(1, row):\n",
    "            new_row.append(triangle[row-1][i-1] + triangle[row-1][i])\n",
    "\n",
    "        new_row.append(1)\n",
    "        \n",
    "        triangle.append(new_row)\n",
    "\n",
    "    for row in triangle:\n",
    "        for num in row:\n",
    "            print(num, end=' ')\n",
    "        print()\n",
    "\n",
    "n = int(input(\"Enter the number of rows for Pascal's Triangle: \"))\n",
    "pascals_triangle(n)\n"
   ]
  },
  {
   "cell_type": "code",
   "execution_count": 19,
   "metadata": {},
   "outputs": [
    {
     "name": "stdout",
     "output_type": "stream",
     "text": [
      "The first 25 terms of the Fibonacci sequence are:\n",
      "[0, 1, 1, 2, 3, 5, 8, 13, 21, 34, 55, 89, 144, 233, 377, 610, 987, 1597, 2584, 4181, 6765, 10946, 17711, 28657, 46368]\n"
     ]
    }
   ],
   "source": [
    "def fibonacci(num):\n",
    "    if num <= 0:\n",
    "        return []\n",
    "    elif num == 1:\n",
    "        return [0]\n",
    "    elif num == 2:\n",
    "        return [0, 1]\n",
    "\n",
    "    sequence = [0, 1]\n",
    "    while len(sequence) < num:\n",
    "        next_value = sequence[-1] + sequence[-2]\n",
    "        sequence.append(next_value)\n",
    "    return sequence\n",
    "\n",
    "try:\n",
    "    fibonnaci_number = int(input(\"Enter the number of Fibonacci terms to generate: \"))\n",
    "    if fibonnaci_number < 1:\n",
    "        print(\"Please enter a positive integer.\")\n",
    "    else:\n",
    "        fibonacci_sequence = fibonacci(fibonnaci_number)\n",
    "        print(\"The first\", fibonnaci_number, \"terms of the Fibonacci sequence are:\")\n",
    "        print(fibonacci_sequence)\n",
    "except ValueError:\n",
    "    print(\"Invalid input. Please enter an integer.\")\n"
   ]
  },
  {
   "cell_type": "code",
   "execution_count": 26,
   "metadata": {},
   "outputs": [
    {
     "name": "stdout",
     "output_type": "stream",
     "text": [
      "Factorial of 6: 720\n",
      "Factorial of 19: 121645100408832000\n",
      "Factorial of 20: 2432902008176640000\n",
      "Factorial of 10: 3628800\n",
      "Factorial of 7: 5040\n"
     ]
    }
   ],
   "source": [
    "#Exercise 1: Factorial of N\n",
    "\n",
    "print(\"Factorial of 6:\", factorial(6))\n",
    "\n",
    "print(\"Factorial of 19:\", factorial(19))\n",
    "\n",
    "print(\"Factorial of 20:\", factorial(20))\n",
    "\n",
    "print(\"Factorial of 10:\", factorial(10))\n",
    "\n",
    "print(\"Factorial of 7:\", factorial(7))"
   ]
  },
  {
   "cell_type": "code",
   "execution_count": 48,
   "metadata": {},
   "outputs": [
    {
     "name": "stdout",
     "output_type": "stream",
     "text": [
      "22.22222222222222\n",
      "86.0\n",
      "10.0\n",
      "43.333333333333336\n",
      "77.9\n"
     ]
    }
   ],
   "source": [
    "#Exercise 2: Temperature Converter\n",
    "\n",
    "print(fahrenheit_to_celsius(72))\n",
    "print(celsius_to_fahrenheit(30))\n",
    "print(fahrenheit_to_celsius(50))\n",
    "print(fahrenheit_to_celsius(110))\n",
    "print(celsius_to_fahrenheit(25.5))"
   ]
  },
  {
   "cell_type": "code",
   "execution_count": 60,
   "metadata": {},
   "outputs": [
    {
     "name": "stdout",
     "output_type": "stream",
     "text": [
      "Weight: 50 kg, Height: 1.75 m, BMI: 16.33, Category: Underweight\n",
      "Weight: 70 kg, Height: 1.75 m, BMI: 22.86, Category: Normal weight\n",
      "Weight: 85 kg, Height: 1.75 m, BMI: 27.76, Category: Overweight\n",
      "Weight: 100 kg, Height: 1.75 m, BMI: 32.65, Category: Obesity\n",
      "Weight: -50 kg, Height: 1.75 m, BMI: -16.33, Category: Underweight\n"
     ]
    }
   ],
   "source": [
    "def bmi_calculator(weight, height):\n",
    "    bmi = weight / (height ** 2)\n",
    "    return bmi\n",
    "\n",
    "def bmi_indicator(bmi):\n",
    "    if bmi > 30:\n",
    "        return \"Obesity\"\n",
    "    elif 24.9 < bmi <= 29.9:\n",
    "        return \"Overweight\"\n",
    "    elif 18.5 <= bmi <= 24.9:\n",
    "        return \"Normal weight\"\n",
    "    else:\n",
    "        return \"Underweight\"\n",
    "\n",
    "# Example cases\n",
    "weights = [50, 70, 85, 100, -50]\n",
    "heights = [1.75, 1.75, 1.75, 1.75, 1.75]\n",
    "\n",
    "for weight, height in zip(weights, heights):\n",
    "    bmi = bmi_calculator(weight, height)\n",
    "    print(f\"Weight: {weight} kg, Height: {height} m, BMI: {bmi:.2f}, Category: {bmi_indicator(bmi)}\")"
   ]
  },
  {
   "cell_type": "code",
   "execution_count": 59,
   "metadata": {},
   "outputs": [
    {
     "name": "stdout",
     "output_type": "stream",
     "text": [
      "Difference for 20: 3\n",
      "Difference for 15: 2\n",
      "Difference for 17: 0\n",
      "Difference for 10: 7\n",
      "Difference for 25: 8\n"
     ]
    }
   ],
   "source": [
    "def difference():\n",
    "    numbers = [20, 15, 17, 10, 25]\n",
    "\n",
    "    for number in numbers:\n",
    "        if number > 17:\n",
    "            print(f\"Difference for {number}: {number - 17}\")\n",
    "        else:\n",
    "            print(f\"Difference for {number}: {17 - number}\")\n",
    "\n",
    "difference()"
   ]
  },
  {
   "cell_type": "code",
   "execution_count": 64,
   "metadata": {},
   "outputs": [
    {
     "name": "stdout",
     "output_type": "stream",
     "text": [
      "1 \n",
      "1 1 \n",
      "1 2 1 \n",
      "1 \n",
      "1 1 \n",
      "1 2 1 \n",
      "1 3 3 1 \n",
      "1 \n",
      "1 1 \n",
      "1 2 1 \n",
      "1 3 3 1 \n",
      "1 4 6 4 1 \n",
      "1 \n",
      "1 1 \n",
      "1 2 1 \n",
      "1 3 3 1 \n",
      "1 4 6 4 1 \n",
      "1 5 10 10 5 1 \n",
      "1 \n",
      "1 1 \n",
      "1 2 1 \n",
      "1 3 3 1 \n",
      "1 4 6 4 1 \n",
      "1 5 10 10 5 1 \n",
      "1 6 15 20 15 6 1 \n"
     ]
    }
   ],
   "source": [
    "#Exercise 5: Pascals Triangle\n",
    "\n",
    "def pascals_triangle(n):\n",
    "    triangle = [[1]]\n",
    "\n",
    "    for row in range(1, n):\n",
    "        new_row = [1]\n",
    "        for i in range(1, row):\n",
    "            new_row.append(triangle[row-1][i-1] + triangle[row-1][i])\n",
    "        new_row.append(1)\n",
    "        triangle.append(new_row)\n",
    "\n",
    "    for row in triangle:\n",
    "        for num in row:\n",
    "            print(num, end=' ')\n",
    "        print()\n",
    "\n",
    "# Example with a fixed number of rows\n",
    "n = 3\n",
    "pascals_triangle(n)\n",
    "\n",
    "\n",
    "n = 4\n",
    "pascals_triangle(n)\n",
    "\n",
    "n = 5\n",
    "pascals_triangle(n)\n",
    "\n",
    "n = 6\n",
    "pascals_triangle(n)\n",
    "\n",
    "n = 7\n",
    "pascals_triangle(n)"
   ]
  },
  {
   "cell_type": "code",
   "execution_count": 65,
   "metadata": {},
   "outputs": [
    {
     "name": "stdout",
     "output_type": "stream",
     "text": [
      "Fibonacci sequence (5 terms): [0, 1, 1, 2, 3]\n",
      "Fibonacci sequence (10 terms): [0, 1, 1, 2, 3, 5, 8, 13, 21, 34]\n",
      "Fibonacci sequence (0 terms): []\n",
      "Fibonacci sequence (1 term): [0]\n",
      "Fibonacci sequence (2 terms): [0, 1]\n"
     ]
    }
   ],
   "source": [
    "#Exercise 6: Fibonacci Sequence\n",
    "\n",
    "fib_sequence = fibonacci(5)\n",
    "print(\"Fibonacci sequence (5 terms):\", fib_sequence)\n",
    "\n",
    "fib_sequence = fibonacci(10)\n",
    "print(\"Fibonacci sequence (10 terms):\", fib_sequence)\n",
    "\n",
    "fib_sequence = fibonacci(0)\n",
    "print(\"Fibonacci sequence (0 terms):\", fib_sequence)\n",
    "\n",
    "fib_sequence = fibonacci(1)\n",
    "print(\"Fibonacci sequence (1 term):\", fib_sequence)\n",
    "\n",
    "fib_sequence = fibonacci(2)\n",
    "print(\"Fibonacci sequence (2 terms):\", fib_sequence)"
   ]
  }
 ],
 "metadata": {
  "kernelspec": {
   "display_name": "Python 3",
   "language": "python",
   "name": "python3"
  },
  "language_info": {
   "codemirror_mode": {
    "name": "ipython",
    "version": 3
   },
   "file_extension": ".py",
   "mimetype": "text/x-python",
   "name": "python",
   "nbconvert_exporter": "python",
   "pygments_lexer": "ipython3",
   "version": "3.12.4"
  }
 },
 "nbformat": 4,
 "nbformat_minor": 2
}
