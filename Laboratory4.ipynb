{
 "cells": [
  {
   "cell_type": "markdown",
   "metadata": {},
   "source": [
    "### USE THIS NOTEBOOK TO WRITE ALL YOU PYTHON CODES AND SUBMIT THIS FILE IN TEAMS ASSIGNMENT."
   ]
  },
  {
   "cell_type": "code",
   "execution_count": 39,
   "metadata": {},
   "outputs": [],
   "source": [
    "import uuid\n",
    "\n",
    "tickets = []"
   ]
  },
  {
   "cell_type": "code",
   "execution_count": 40,
   "metadata": {},
   "outputs": [],
   "source": [
    "def generate_ticket(customer_name, issue, priority, status='Open'):\n",
    "    ticket_id = str(uuid.uuid4())\n",
    "    ticket = {\n",
    "        'ticket_id': ticket_id,\n",
    "        'customer_name': customer_name,\n",
    "        'issue': issue,\n",
    "        'priority': priority,\n",
    "        'status': status,\n",
    "        'assignee': None\n",
    "    }\n",
    "    tickets.append(ticket)\n",
    "    return ticket\n",
    "\n",
    "def view_open_tickets(tickets):\n",
    "    open_tickets = [ticket for ticket in tickets if ticket['status'] == 'Open']\n",
    "    return open_tickets\n",
    "\n",
    "\n",
    "def assign_ticket(tickets, ticket_id, assignee):\n",
    "    for ticket in tickets:\n",
    "        if ticket['ticket_id'] == ticket_id:\n",
    "            ticket['assignee'] = assignee\n",
    "            ticket['status'] = 'Pending'\n",
    "            return ticket\n",
    "    return None\n",
    "\n",
    "\n",
    "def resolve_ticket(ticket_id, tickets):\n",
    "    for ticket in tickets:\n",
    "        if ticket['ticket_id'] == ticket_id:\n",
    "            ticket['status'] = 'Resolved'\n",
    "            return ticket\n",
    "    return None\n",
    "\n",
    "\n",
    "def track_tickets():\n",
    "    resolved_tickets = [ticket for ticket in tickets if ticket['status'] == 'Resolved']\n",
    "    unresolved_tickets = [ticket for ticket in tickets if ticket['status'] != 'Resolved']\n",
    "    return resolved_tickets, unresolved_tickets\n",
    "\n"
   ]
  },
  {
   "cell_type": "code",
   "execution_count": 42,
   "metadata": {},
   "outputs": [
    {
     "name": "stdout",
     "output_type": "stream",
     "text": [
      "<class 'list'>\n",
      "{'ticket_id': '0ce9c815-4509-4e4a-a7a6-85913771fd1b', 'customer_name': 'John Doe', 'issue': 'Login issue', 'priority': 'High', 'status': 'Open', 'assignee': None}\n",
      "Open Tickets:\n",
      "{'ticket_id': '0ce9c815-4509-4e4a-a7a6-85913771fd1b', 'customer_name': 'John Doe', 'issue': 'Login issue', 'priority': 'High', 'status': 'Open', 'assignee': None}\n",
      "{'ticket_id': '6261bb43-ad63-417d-b062-0aa42f45be75', 'customer_name': 'Jane Smith', 'issue': 'Payment issue', 'priority': 'Medium', 'status': 'Open', 'assignee': None}\n",
      "{'ticket_id': 'd5eb4ccb-2dcc-47e4-9542-18b06e407208', 'customer_name': 'Alice Johnson', 'issue': 'Account locked', 'priority': 'High', 'status': 'Open', 'assignee': None}\n",
      "\n",
      "Assigned Ticket:\n",
      "{'ticket_id': '0ce9c815-4509-4e4a-a7a6-85913771fd1b', 'customer_name': 'John Doe', 'issue': 'Login issue', 'priority': 'High', 'status': 'Pending', 'assignee': 'Support Agent 1'}\n"
     ]
    },
    {
     "ename": "TypeError",
     "evalue": "string indices must be integers, not 'str'",
     "output_type": "error",
     "traceback": [
      "\u001b[1;31m---------------------------------------------------------------------------\u001b[0m",
      "\u001b[1;31mTypeError\u001b[0m                                 Traceback (most recent call last)",
      "Cell \u001b[1;32mIn[42], line 40\u001b[0m\n\u001b[0;32m     37\u001b[0m         \u001b[38;5;28mprint\u001b[39m(ticket)\n\u001b[0;32m     39\u001b[0m \u001b[38;5;28;01mif\u001b[39;00m \u001b[38;5;18m__name__\u001b[39m \u001b[38;5;241m==\u001b[39m \u001b[38;5;124m\"\u001b[39m\u001b[38;5;124m__main__\u001b[39m\u001b[38;5;124m\"\u001b[39m:\n\u001b[1;32m---> 40\u001b[0m     \u001b[43mmain\u001b[49m\u001b[43m(\u001b[49m\u001b[43m)\u001b[49m\n",
      "Cell \u001b[1;32mIn[42], line 25\u001b[0m, in \u001b[0;36mmain\u001b[1;34m()\u001b[0m\n\u001b[0;32m     22\u001b[0m \u001b[38;5;28mprint\u001b[39m(assigned_ticket)\n\u001b[0;32m     24\u001b[0m \u001b[38;5;66;03m# Resolve a ticket\u001b[39;00m\n\u001b[1;32m---> 25\u001b[0m resolved_ticket \u001b[38;5;241m=\u001b[39m \u001b[43mresolve_ticket\u001b[49m\u001b[43m(\u001b[49m\u001b[43mtickets\u001b[49m\u001b[43m,\u001b[49m\u001b[43m \u001b[49m\u001b[43mtickets\u001b[49m\u001b[43m[\u001b[49m\u001b[38;5;241;43m0\u001b[39;49m\u001b[43m]\u001b[49m\u001b[43m[\u001b[49m\u001b[38;5;124;43m'\u001b[39;49m\u001b[38;5;124;43mticket_id\u001b[39;49m\u001b[38;5;124;43m'\u001b[39;49m\u001b[43m]\u001b[49m\u001b[43m)\u001b[49m\n\u001b[0;32m     26\u001b[0m \u001b[38;5;28mprint\u001b[39m(\u001b[38;5;124m\"\u001b[39m\u001b[38;5;130;01m\\n\u001b[39;00m\u001b[38;5;124mResolved Ticket:\u001b[39m\u001b[38;5;124m\"\u001b[39m)\n\u001b[0;32m     27\u001b[0m \u001b[38;5;28mprint\u001b[39m(resolved_ticket)\n",
      "Cell \u001b[1;32mIn[40], line 30\u001b[0m, in \u001b[0;36mresolve_ticket\u001b[1;34m(ticket_id, tickets)\u001b[0m\n\u001b[0;32m     28\u001b[0m \u001b[38;5;28;01mdef\u001b[39;00m \u001b[38;5;21mresolve_ticket\u001b[39m(ticket_id, tickets):\n\u001b[0;32m     29\u001b[0m     \u001b[38;5;28;01mfor\u001b[39;00m ticket \u001b[38;5;129;01min\u001b[39;00m tickets:\n\u001b[1;32m---> 30\u001b[0m         \u001b[38;5;28;01mif\u001b[39;00m \u001b[43mticket\u001b[49m\u001b[43m[\u001b[49m\u001b[38;5;124;43m'\u001b[39;49m\u001b[38;5;124;43mticket_id\u001b[39;49m\u001b[38;5;124;43m'\u001b[39;49m\u001b[43m]\u001b[49m \u001b[38;5;241m==\u001b[39m ticket_id:\n\u001b[0;32m     31\u001b[0m             ticket[\u001b[38;5;124m'\u001b[39m\u001b[38;5;124mstatus\u001b[39m\u001b[38;5;124m'\u001b[39m] \u001b[38;5;241m=\u001b[39m \u001b[38;5;124m'\u001b[39m\u001b[38;5;124mResolved\u001b[39m\u001b[38;5;124m'\u001b[39m\n\u001b[0;32m     32\u001b[0m             \u001b[38;5;28;01mreturn\u001b[39;00m ticket\n",
      "\u001b[1;31mTypeError\u001b[0m: string indices must be integers, not 'str'"
     ]
    }
   ],
   "source": [
    "def main():\n",
    "    # Ensure tickets is a list\n",
    "    tickets = []\n",
    "    \n",
    "    # Generate some sample tickets\n",
    "    tickets.append(generate_ticket('John Doe', 'Login issue', 'High'))\n",
    "    tickets.append(generate_ticket('Jane Smith', 'Payment issue', 'Medium'))\n",
    "    tickets.append(generate_ticket('Alice Johnson', 'Account locked', 'High'))\n",
    "\n",
    "    # Check the type of tickets and the first item\n",
    "    print(type(tickets))  # Should print <class 'list'>\n",
    "    print(tickets[0])  # Should print the first ticket dictionary\n",
    "\n",
    "    # View open tickets\n",
    "    print(\"Open Tickets:\")\n",
    "    for ticket in view_open_tickets(tickets):\n",
    "        print(ticket)\n",
    "\n",
    "    # Assign a ticket\n",
    "    assigned_ticket = assign_ticket(tickets, tickets[0]['ticket_id'], 'Support Agent 1')\n",
    "    print(\"\\nAssigned Ticket:\")\n",
    "    print(assigned_ticket)\n",
    "\n",
    "    # Resolve a ticket\n",
    "    resolved_ticket = resolve_ticket(tickets, tickets[0]['ticket_id'])\n",
    "    print(\"\\nResolved Ticket:\")\n",
    "    print(resolved_ticket)\n",
    "\n",
    "    # Track tickets\n",
    "    resolved, unresolved = track_tickets(tickets)\n",
    "    print(\"\\nResolved Tickets:\")\n",
    "    for ticket in resolved:\n",
    "        print(ticket)\n",
    "\n",
    "    print(\"\\nUnresolved Tickets:\")\n",
    "    for ticket in unresolved:\n",
    "        print(ticket)\n",
    "\n"
   ]
  }
 ],
 "metadata": {
  "kernelspec": {
   "display_name": "Python 3",
   "language": "python",
   "name": "python3"
  },
  "language_info": {
   "codemirror_mode": {
    "name": "ipython",
    "version": 3
   },
   "file_extension": ".py",
   "mimetype": "text/x-python",
   "name": "python",
   "nbconvert_exporter": "python",
   "pygments_lexer": "ipython3",
   "version": "3.12.4"
  }
 },
 "nbformat": 4,
 "nbformat_minor": 2
}
