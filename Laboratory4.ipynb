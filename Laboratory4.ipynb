{
 "cells": [
  {
   "cell_type": "markdown",
   "metadata": {},
   "source": [
    "### USE THIS NOTEBOOK TO WRITE ALL YOU PYTHON CODES AND SUBMIT THIS FILE IN TEAMS ASSIGNMENT."
   ]
  },
  {
   "cell_type": "code",
   "execution_count": 7,
   "metadata": {},
   "outputs": [],
   "source": [
    "import uuid\n",
    "\n",
    "tickets = []\n",
    "staff = [\"Piolo\", \"Frances\", \"Enriquez\"]"
   ]
  },
  {
   "cell_type": "code",
   "execution_count": 5,
   "metadata": {},
   "outputs": [],
   "source": [
    "def generate_ticket():\n",
    "    ticket_id = len(tickets) + 1\n",
    "    customer_name = input(\"Enter customer name: \")\n",
    "    issue = input(\"Enter issue description: \")\n",
    "    priority = input(\"Enter priority: \")\n",
    "    \n",
    "    ticket = {\n",
    "        \"ticket_id\": ticket_id,\n",
    "        \"customer_name\": customer_name,\n",
    "        \"issue\": issue,\n",
    "        \"priority\": priority,\n",
    "        \"status\": \"Unresolved\",\n",
    "        \"assigned_to\": None\n",
    "    }\n",
    "    \n",
    "    tickets.append(ticket)\n",
    "    print(f\"Ticket created with ID: {ticket_id}\")\n",
    "\n",
    "def view_open_tickets():\n",
    "    has_open_tickets = False\n",
    "    for ticket in tickets:\n",
    "        if ticket[\"status\"] == \"Unresolved\":\n",
    "            has_open_tickets = True\n",
    "            print(f\"Ticket ID: {ticket['ticket_id']}, Customer: {ticket['customer_name']}, Issue: {ticket['issue']}, Priority: {ticket['priority']}, Assigned To: {ticket['assigned_to']}\")\n",
    "    \n",
    "    if not has_open_tickets:\n",
    "        print(\"No open tickets available.\")\n",
    "\n",
    "def assign_ticket():\n",
    "    ticket_id = int(input(\"Enter Ticket ID to assign: \"))\n",
    "    \n",
    "    for ticket in tickets:\n",
    "        if ticket[\"ticket_id\"] == ticket_id and ticket[\"status\"] == \"Unresolved\":\n",
    "            print(\"Available support staff:\")\n",
    "            for i, staff in enumerate(staff):\n",
    "                print(f\"{i + 1}. {staff}\")\n",
    "            \n",
    "            staff_choice = int(input(\"Assign to staff (1-3): \")) - 1\n",
    "            ticket[\"assigned_to\"] = staff[staff_choice]\n",
    "            print(f\"Ticket {ticket_id} assigned to {staff[staff_choice]}\")\n",
    "            return\n",
    "    \n",
    "    print(\"Invalid Ticket ID or Ticket already resolved.\")\n",
    "\n",
    "def resolve_ticket():\n",
    "    ticket_id = int(input(\"Enter Ticket ID to resolve: \"))\n",
    "    \n",
    "    for ticket in tickets:\n",
    "        if ticket[\"ticket_id\"] == ticket_id and ticket[\"status\"] == \"Unresolved\":\n",
    "            ticket[\"status\"] = \"Resolved\"\n",
    "            print(f\"Ticket {ticket_id} has been resolved.\")\n",
    "            return\n",
    "    \n",
    "    print(\"Invalid Ticket ID or Ticket already resolved.\")\n",
    "\n"
   ]
  },
  {
   "cell_type": "code",
   "execution_count": 6,
   "metadata": {},
   "outputs": [
    {
     "name": "stdout",
     "output_type": "stream",
     "text": [
      "--- Ticket Management System ---\n",
      "1. Create Ticket\n",
      "2. View Open Tickets\n",
      "3. Assign Ticket\n",
      "4. Resolve Ticket\n",
      "5. Exit\n"
     ]
    },
    {
     "ename": "TypeError",
     "evalue": "generate_ticket() missing 3 required positional arguments: 'customer_name', 'issue', and 'priority'",
     "output_type": "error",
     "traceback": [
      "\u001b[1;31m---------------------------------------------------------------------------\u001b[0m",
      "\u001b[1;31mTypeError\u001b[0m                                 Traceback (most recent call last)",
      "Cell \u001b[1;32mIn[6], line 26\u001b[0m\n\u001b[0;32m     23\u001b[0m         \u001b[38;5;28;01melse\u001b[39;00m:\n\u001b[0;32m     24\u001b[0m             \u001b[38;5;28mprint\u001b[39m(\u001b[38;5;124m\"\u001b[39m\u001b[38;5;124mInvalid choice. Please try again.\u001b[39m\u001b[38;5;124m\"\u001b[39m)\n\u001b[1;32m---> 26\u001b[0m \u001b[43mmain\u001b[49m\u001b[43m(\u001b[49m\u001b[43m)\u001b[49m\n",
      "Cell \u001b[1;32mIn[6], line 13\u001b[0m, in \u001b[0;36mmain\u001b[1;34m()\u001b[0m\n\u001b[0;32m     10\u001b[0m choice \u001b[38;5;241m=\u001b[39m \u001b[38;5;28minput\u001b[39m(\u001b[38;5;124m\"\u001b[39m\u001b[38;5;124mEnter your choice (1-5): \u001b[39m\u001b[38;5;124m\"\u001b[39m)\n\u001b[0;32m     12\u001b[0m \u001b[38;5;28;01mif\u001b[39;00m choice \u001b[38;5;241m==\u001b[39m \u001b[38;5;124m'\u001b[39m\u001b[38;5;124m1\u001b[39m\u001b[38;5;124m'\u001b[39m:\n\u001b[1;32m---> 13\u001b[0m     \u001b[43mgenerate_ticket\u001b[49m\u001b[43m(\u001b[49m\u001b[43m)\u001b[49m\n\u001b[0;32m     14\u001b[0m \u001b[38;5;28;01melif\u001b[39;00m choice \u001b[38;5;241m==\u001b[39m \u001b[38;5;124m'\u001b[39m\u001b[38;5;124m2\u001b[39m\u001b[38;5;124m'\u001b[39m:\n\u001b[0;32m     15\u001b[0m     view_open_tickets()\n",
      "\u001b[1;31mTypeError\u001b[0m: generate_ticket() missing 3 required positional arguments: 'customer_name', 'issue', and 'priority'"
     ]
    }
   ],
   "source": [
    "def main():\n",
    "    while True:\n",
    "        print(\"--- Ticket Management System ---\")\n",
    "        print(\"1. Create Ticket\")\n",
    "        print(\"2. View Open Tickets\")\n",
    "        print(\"3. Assign Ticket\")\n",
    "        print(\"4. Resolve Ticket\")\n",
    "        print(\"5. Exit\")\n",
    "        \n",
    "        choice = input(\"Enter your choice (1-5): \")\n",
    "        \n",
    "        if choice == '1':\n",
    "            generate_ticket()\n",
    "        elif choice == '2':\n",
    "            view_open_tickets()\n",
    "        elif choice == '3':\n",
    "            assign_ticket()\n",
    "        elif choice == '4':\n",
    "            resolve_ticket()\n",
    "        elif choice == '5':\n",
    "            print(\"Exiting the system...\")\n",
    "            break\n",
    "        else:\n",
    "            print(\"Invalid choice. Please try again.\")\n",
    "\n",
    "main()"
   ]
  }
 ],
 "metadata": {
  "kernelspec": {
   "display_name": "Python 3",
   "language": "python",
   "name": "python3"
  },
  "language_info": {
   "codemirror_mode": {
    "name": "ipython",
    "version": 3
   },
   "file_extension": ".py",
   "mimetype": "text/x-python",
   "name": "python",
   "nbconvert_exporter": "python",
   "pygments_lexer": "ipython3",
   "version": "3.12.4"
  }
 },
 "nbformat": 4,
 "nbformat_minor": 2
}
